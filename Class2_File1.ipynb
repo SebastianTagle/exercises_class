{
  "nbformat": 4,
  "nbformat_minor": 0,
  "metadata": {
    "colab": {
      "provenance": [],
      "toc_visible": true,
      "authorship_tag": "ABX9TyNuqOUOasSEjDQ1ekQi6q1c",
      "include_colab_link": true
    },
    "kernelspec": {
      "name": "python3",
      "display_name": "Python 3"
    },
    "language_info": {
      "name": "python"
    }
  },
  "cells": [
    {
      "cell_type": "markdown",
      "metadata": {
        "id": "view-in-github",
        "colab_type": "text"
      },
      "source": [
        "<a href=\"https://colab.research.google.com/github/SebastianTagle/exercises_class/blob/main/Class2_File1.ipynb\" target=\"_parent\"><img src=\"https://colab.research.google.com/assets/colab-badge.svg\" alt=\"Open In Colab\"/></a>"
      ]
    },
    {
      "cell_type": "code",
      "execution_count": 5,
      "metadata": {
        "colab": {
          "base_uri": "https://localhost:8080/"
        },
        "id": "gMRgt-6QbXA1",
        "outputId": "cac45c1d-61e9-46f5-8ecd-cefd3c26cdb2"
      },
      "outputs": [
        {
          "output_type": "stream",
          "name": "stdout",
          "text": [
            "Hello User!\n",
            "What is your user name? seb\n",
            "Hello!, seb\n",
            "What is your favorite number? 8\n",
            "Your Favorite number is higher than mine 5\n"
          ]
        }
      ],
      "source": [
        "\n",
        "import random\n",
        "alternative=range(10)\n",
        "w=random.choice(alternative)\n",
        "\n",
        "print(\"Hello User!\")\n",
        "x=input(\"What is your user name? \")\n",
        "print(\"Hello!, \"+x)\n",
        "y=int(input(\"What is your favorite number? \"))\n",
        "if y<w:\n",
        "  print(\"Your Favorite number is lower than mine \"+ str(w))\n",
        "if y>w:\n",
        "  print(\"Your Favorite number is higher than mine \" + str(w))\n",
        "if y==w:\n",
        "  print(\"Your Favorite number is same as mine \" + str(w))\n",
        "\n",
        "\n"
      ]
    },
    {
      "cell_type": "code",
      "source": [
        "Candy_list = [\"Snickers\", \"Kit Kat\", \"Sour Patch Kids\", \"Juicy Fruit\", \"Swedish Fish\", \"Skittles\", \"Hershey Bar\", \"Starbursts\", \"M&Ms\"]\n",
        "Candy_cart=[]\n",
        "x=0\n",
        "for word in Candy_list:\n",
        "  w=int(input(\"allowance: \"))\n",
        "  for i in range(w):\n",
        "    Candy_cart.append(word)\n",
        "  print(Candy_cart)\n",
        "  y=input(\"do you want more Candy: (yes) or (no) \")\n",
        "  if y==\"yes\":\n",
        "    x=x+1\n",
        "  else:\n",
        "    break\n"
      ],
      "metadata": {
        "colab": {
          "base_uri": "https://localhost:8080/"
        },
        "id": "Qw47QUz3vSAE",
        "outputId": "de5442b2-7623-49b1-de5f-3d6049f9805e"
      },
      "execution_count": 20,
      "outputs": [
        {
          "name": "stdout",
          "output_type": "stream",
          "text": [
            "allowence to: 2\n",
            "['Snickers', 'Snickers']\n",
            "do you wnat more Candy: (yes) or (no) no\n"
          ]
        }
      ]
    },
    {
      "cell_type": "code",
      "source": [
        "Candy_list = [\"Snickers\", \"Kit Kat\", \"Sour Patch Kids\", \"Juicy Fruit\", \"Swedish Fish\", \"Skittles\", \"Hershey Bar\", \"Starbursts\", \"M&Ms\"]\n",
        "Candy_cart=[]\n",
        "x=0\n",
        "for word in Candy_list:\n",
        "  w=int(input(\"What Candy do you want: \"))\n",
        "  for i in range(w):\n",
        "    Candy_cart.append(word)\n",
        "  print(Candy_cart)\n",
        "  y=input(\"do you want more Candy: (yes) or (no) \")\n",
        "  if y==\"yes\":\n",
        "    x=x+1\n",
        "  else:\n",
        "    break"
      ],
      "metadata": {
        "id": "nPju09-h0nOT"
      },
      "execution_count": null,
      "outputs": []
    },
    {
      "cell_type": "code",
      "source": [
        "List_Pies=[\"Pecan\", \"Apple Crisp\", \"Bean\", \"Banoffee\", \"Black Bun\", \"Blueberry\", \"Buko\", \"Burek\", \"Tamale\", \"Steak\"]\n",
        "for word in List_Pies:\n",
        "  print(f\"[{str(List_Pies.index(word))}] {word}\")\n",
        "i=\"yes\"\n",
        "Pies_Cart=[]\n",
        "while i==\"yes\":\n",
        "  selected= int(input(\"what pie would you like: \"))\n",
        "  print(\"Great!, we'll have that \"+ List_Pies[int(selected)] +\" right out for you\")\n",
        "  Pies_Cart.append(List_Pies[int(selected)])\n",
        "  i=input(\"do you want more pies \")\n",
        "print(\"This is your order :\" + str(Pies_Cart))"
      ],
      "metadata": {
        "colab": {
          "base_uri": "https://localhost:8080/"
        },
        "id": "UQHHGlTM2C2N",
        "outputId": "07eb21fd-5c41-4312-a92b-4b91db924f1d"
      },
      "execution_count": 38,
      "outputs": [
        {
          "output_type": "stream",
          "name": "stdout",
          "text": [
            "[0] Pecan\n",
            "[1] Apple Crisp\n",
            "[2] Bean\n",
            "[3] Banoffee\n",
            "[4] Black Bun\n",
            "[5] Blueberry\n",
            "[6] Buko\n",
            "[7] Burek\n",
            "[8] Tamale\n",
            "[9] Steak\n",
            "what pie would you like: 2\n",
            "Great!, we'll have that Bean right out for you\n",
            "do you want more pies yes\n",
            "what pie would you like: 4\n",
            "Great!, we'll have that Black Bun right out for you\n",
            "do you want more pies yes\n",
            "what pie would you like: 7\n",
            "Great!, we'll have that Burek right out for you\n",
            "do you want more pies no\n",
            "This is your order :['Bean', 'Black Bun', 'Burek']\n"
          ]
        }
      ]
    }
  ]
}