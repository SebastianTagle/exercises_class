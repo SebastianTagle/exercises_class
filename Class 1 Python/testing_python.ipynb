{
  "nbformat": 4,
  "nbformat_minor": 0,
  "metadata": {
    "colab": {
      "provenance": [],
      "toc_visible": true,
      "authorship_tag": "ABX9TyMe15xpvknliPzMnNK47csn",
      "include_colab_link": true
    },
    "kernelspec": {
      "name": "python3",
      "display_name": "Python 3"
    },
    "language_info": {
      "name": "python"
    }
  },
  "cells": [
    {
      "cell_type": "markdown",
      "metadata": {
        "id": "view-in-github",
        "colab_type": "text"
      },
      "source": [
        "<a href=\"https://colab.research.google.com/github/SebastianTagle/exercises_class/blob/main/testing_python.ipynb\" target=\"_parent\"><img src=\"https://colab.research.google.com/assets/colab-badge.svg\" alt=\"Open In Colab\"/></a>"
      ]
    },
    {
      "cell_type": "markdown",
      "source": [
        "Lab 1\n"
      ],
      "metadata": {
        "id": "K67WAw8axp66"
      }
    },
    {
      "cell_type": "code",
      "source": [
        "print(\"hello world\")\n"
      ],
      "metadata": {
        "colab": {
          "base_uri": "https://localhost:8080/"
        },
        "id": "u0_rZ6ycvkva",
        "outputId": "01eae8af-068b-443c-c33a-4dfcd0dfc6d4"
      },
      "execution_count": null,
      "outputs": [
        {
          "output_type": "stream",
          "name": "stdout",
          "text": [
            "hello world\n"
          ]
        }
      ]
    },
    {
      "cell_type": "code",
      "source": [
        "age = int(input(\"how old are you?\"))\n"
      ],
      "metadata": {
        "colab": {
          "base_uri": "https://localhost:8080/"
        },
        "id": "MsaAwSukv0Im",
        "outputId": "f63fcd53-3291-4b18-adfa-4ed49952254e"
      },
      "execution_count": null,
      "outputs": [
        {
          "name": "stdout",
          "output_type": "stream",
          "text": [
            "how old are you?35\n"
          ]
        },
        {
          "output_type": "execute_result",
          "data": {
            "text/plain": [
              "35"
            ]
          },
          "metadata": {},
          "execution_count": 24
        }
      ]
    },
    {
      "cell_type": "code",
      "source": [
        "title=\"Frankfurter\"\n",
        "years= 80\n",
        "expert_status = True\n",
        "\n",
        "print(\"Nick is a professional \"+ title)\n",
        "print (\"He has been coding for \"+ str(years) +\" years\")\n",
        "print(\"Expert status: \"+ str(expert_status))\n",
        "print(f\"Expert Status:{expert_status}\")\n",
        "\n",
        "\n"
      ],
      "metadata": {
        "colab": {
          "base_uri": "https://localhost:8080/"
        },
        "id": "dtAj1BZKpQSt",
        "outputId": "b92366b0-f11a-4e39-ba5c-c523c164de65"
      },
      "execution_count": null,
      "outputs": [
        {
          "output_type": "stream",
          "name": "stdout",
          "text": [
            "Nick is a professional Frankfurter\n",
            "He has been coding for 80 years\n",
            "Expert status: True\n",
            "Expert Status:True\n"
          ]
        }
      ]
    },
    {
      "cell_type": "code",
      "source": [
        "Name = \"Sebastian Tagle\"\n",
        "Country =\"Chile\"\n",
        "Age=35\n",
        "Hourly_Wage=10\n",
        "Satisfied = True\n",
        "Daile_wage = Hourly_Wage * 8\n",
        "\n",
        "print (\"My name is \"+ Name)\n",
        "print (\"I am from \" + Country)\n",
        "print (\"I am \"+ str(Age) +\" years old\")\n",
        "print (\"I make \"+str(Daile_wage)+ \"per day\")\n",
        "print (\"Are you satisfied with your current wage?\"+ str(Satisfied))\n",
        "\n",
        "\n"
      ],
      "metadata": {
        "colab": {
          "base_uri": "https://localhost:8080/"
        },
        "id": "a42F-PPcrH8t",
        "outputId": "a8840c0b-2c77-4676-ff09-6803c40a1890"
      },
      "execution_count": null,
      "outputs": [
        {
          "output_type": "stream",
          "name": "stdout",
          "text": [
            "My name is Sebastian Tagle\n",
            "I am from Chile\n",
            "I am 35 years old\n",
            "I make 80per day\n",
            "Are you satisfied with your current wage?True\n"
          ]
        }
      ]
    },
    {
      "cell_type": "code",
      "source": [
        "First_Name = input(\"What is your fisrt name? \")\n",
        "Neighbor_First_Name = input(\"what is your neighbor's first name? \")\n",
        "month = int(input(\"how many month have been coding? \"))\n",
        "month1 = int(input(\"how many month have been coding your neighbor's? \"))\n",
        "total_month = month + month1\n",
        "print (f\"My first Name is : {First_Name}\")\n",
        "print (Neighbor_First_Name)\n",
        "print (str(total_month))\n",
        "\n"
      ],
      "metadata": {
        "colab": {
          "base_uri": "https://localhost:8080/"
        },
        "id": "ScSyPYbAwHLA",
        "outputId": "f15d444a-45b8-4f7a-97e3-a792be0ab8d1"
      },
      "execution_count": null,
      "outputs": [
        {
          "output_type": "stream",
          "name": "stdout",
          "text": [
            "What is your fisrt name? Sebastian\n",
            "what is your neighbor's first name? Tomas\n",
            "how many month have been coding? 10\n",
            "how many month have been coding your neighbor's? 12\n",
            "My first Name is : Sebastian\n",
            "Tomas\n",
            "22\n"
          ]
        }
      ]
    },
    {
      "cell_type": "code",
      "source": [
        "number = int(input(\"give me a number: \"))\n",
        "if number == 1:\n",
        "  print(\"your number is \"+ str(number))\n",
        "else:\n",
        "        print(\" your number is not \"+str(number))"
      ],
      "metadata": {
        "colab": {
          "base_uri": "https://localhost:8080/"
        },
        "id": "_8MLgiXzzju1",
        "outputId": "8395aa36-2636-44eb-e08b-7c2fe0c4ad61"
      },
      "execution_count": null,
      "outputs": [
        {
          "output_type": "stream",
          "name": "stdout",
          "text": [
            "give me a number: 1\n",
            "your number is 1\n"
          ]
        }
      ]
    },
    {
      "cell_type": "code",
      "source": [
        "x=int(input(\"give me a number: \"))\n",
        "if x < 10:\n",
        "    if x<5:\n",
        "      print(\"your number is less than 5\")\n",
        "    elif x == 5:\n",
        "      print(\"you number is 5\")\n",
        "    else:\n",
        "      print(\"your number ir greater than 5\")\n",
        "else:\n",
        "  print(\"your number ir greater than 10\")"
      ],
      "metadata": {
        "colab": {
          "base_uri": "https://localhost:8080/"
        },
        "id": "KCymkiVF0u9Z",
        "outputId": "b2f67d38-a719-4291-e438-09c68831f30d"
      },
      "execution_count": null,
      "outputs": [
        {
          "output_type": "stream",
          "name": "stdout",
          "text": [
            "give me a number: 5\n",
            "you number is 5\n"
          ]
        }
      ]
    },
    {
      "cell_type": "code",
      "source": [],
      "metadata": {
        "colab": {
          "base_uri": "https://localhost:8080/"
        },
        "id": "8T0w8oAE3YpK",
        "outputId": "ee95b2c4-8c54-416b-e72a-3c9cf2c7d2a4"
      },
      "execution_count": null,
      "outputs": [
        {
          "output_type": "execute_result",
          "data": {
            "text/plain": [
              "8"
            ]
          },
          "metadata": {},
          "execution_count": 49
        }
      ]
    }
  ]
}