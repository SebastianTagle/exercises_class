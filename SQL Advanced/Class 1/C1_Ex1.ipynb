{
 "cells": [
  {
   "cell_type": "code",
   "execution_count": 8,
   "metadata": {},
   "outputs": [],
   "source": [
    "# Import the dependencies.\n",
    "from pathlib import Path\n",
    "from sqlalchemy import create_engine, text"
   ]
  },
  {
   "cell_type": "code",
   "execution_count": 20,
   "metadata": {},
   "outputs": [],
   "source": [
    "# con esta ingreso al archivo\n",
    "database_path= Path(\"icecreamstore.sqlite\")"
   ]
  },
  {
   "cell_type": "code",
   "execution_count": 24,
   "metadata": {},
   "outputs": [],
   "source": [
    "# \n",
    "engine = create_engine(f\"sqlite:///{database_path}\")\n"
   ]
  },
  {
   "cell_type": "code",
   "execution_count": 25,
   "metadata": {},
   "outputs": [],
   "source": [
    "query = text(\"SELECT * FROM icecreamstore;\")\n",
    "data = engine.execute(query)"
   ]
  },
  {
   "cell_type": "code",
   "execution_count": 26,
   "metadata": {},
   "outputs": [
    {
     "name": "stdout",
     "output_type": "stream",
     "text": [
      "(1, 'Vanilla', 150, 2.0)\n",
      "(2, 'Chocolate', 125, 2.0)\n",
      "(3, 'Bubblegum', 95, 2.5)\n",
      "(4, 'Mint Chocolate Chip', 100, 2.5)\n",
      "(5, 'Strawberry', 75, 2.0)\n",
      "(6, 'Cookies and Cream', 100, 2.5)\n",
      "(25, 'testflavor', 5, 0.5)\n"
     ]
    }
   ],
   "source": [
    "for record in data:\n",
    "    print(record)\n"
   ]
  },
  {
   "cell_type": "code",
   "execution_count": 27,
   "metadata": {},
   "outputs": [
    {
     "name": "stdout",
     "output_type": "stream",
     "text": [
      "(3, 'Bubblegum', 95, 2.5)\n",
      "(4, 'Mint Chocolate Chip', 100, 2.5)\n",
      "(6, 'Cookies and Cream', 100, 2.5)\n"
     ]
    }
   ],
   "source": [
    "query = text(\"SELECT * FROM icecreamstore WHERE Price > 2.0;\")\n",
    "data = engine.execute(query)\n",
    "for record in data:\n",
    "    print(record)"
   ]
  }
 ],
 "metadata": {
  "kernelspec": {
   "display_name": "dev",
   "language": "python",
   "name": "python3"
  },
  "language_info": {
   "codemirror_mode": {
    "name": "ipython",
    "version": 3
   },
   "file_extension": ".py",
   "mimetype": "text/x-python",
   "name": "python",
   "nbconvert_exporter": "python",
   "pygments_lexer": "ipython3",
   "version": "3.10.11"
  },
  "orig_nbformat": 4
 },
 "nbformat": 4,
 "nbformat_minor": 2
}
