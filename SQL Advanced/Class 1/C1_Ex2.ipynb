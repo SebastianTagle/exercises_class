{
 "cells": [
  {
   "cell_type": "code",
   "execution_count": 3,
   "metadata": {},
   "outputs": [],
   "source": [
    "class Surfer:\n",
    "    def __init__(self, name,beach,rank):\n",
    "        self.name = name\n",
    "        self.beach = beach\n",
    "        self.rank = rank\n",
    "\n"
   ]
  },
  {
   "cell_type": "code",
   "execution_count": 12,
   "metadata": {},
   "outputs": [],
   "source": [
    "surfer = Surfer([\"Kelly Slater\",\"Rob Machado\"],[\"Cocoa Beach Waves\",\"Pipeline Beach\"],[1,2])\n"
   ]
  },
  {
   "cell_type": "code",
   "execution_count": 13,
   "metadata": {},
   "outputs": [
    {
     "name": "stdout",
     "output_type": "stream",
     "text": [
      "['Kelly Slater', 'Rob Machado']\n",
      "['Cocoa Beach Waves', 'Pipeline Beach']\n",
      "[1, 2]\n"
     ]
    }
   ],
   "source": [
    "print(surfer.name)\n",
    "print(surfer.beach)\n",
    "print(surfer.rank)"
   ]
  },
  {
   "cell_type": "code",
   "execution_count": 21,
   "metadata": {},
   "outputs": [
    {
     "name": "stdout",
     "output_type": "stream",
     "text": [
      "a\n",
      "b\n",
      "1\n"
     ]
    }
   ],
   "source": [
    "go = True\n",
    "\n",
    "while go == True:\n",
    "    name = input(\"Surfer Name?\")\n",
    "    beach = input(\"Beach?\")\n",
    "    rank = int(input (\"Rank?\"))\n",
    "\n",
    "    surfer = Surfer(name,beach,rank)\n",
    "\n",
    "    print(surfer.name)\n",
    "    print(surfer.beach)\n",
    "    print(surfer.rank)\n",
    "\n",
    "    response = input(\"Would you like to continue?\")\n",
    "    if response == \"y\":\n",
    "        go = True\n",
    "    else:\n",
    "        go = False\n"
   ]
  }
 ],
 "metadata": {
  "kernelspec": {
   "display_name": "dev",
   "language": "python",
   "name": "python3"
  },
  "language_info": {
   "codemirror_mode": {
    "name": "ipython",
    "version": 3
   },
   "file_extension": ".py",
   "mimetype": "text/x-python",
   "name": "python",
   "nbconvert_exporter": "python",
   "pygments_lexer": "ipython3",
   "version": "3.10.11"
  },
  "orig_nbformat": 4
 },
 "nbformat": 4,
 "nbformat_minor": 2
}
