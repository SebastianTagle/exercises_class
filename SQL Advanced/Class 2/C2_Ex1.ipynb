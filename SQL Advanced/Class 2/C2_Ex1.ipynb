{
 "cells": [
  {
   "cell_type": "code",
   "execution_count": 1,
   "metadata": {},
   "outputs": [],
   "source": [
    "# Import the dependencies\n",
    "from pathlib import Path\n",
    "from sqlalchemy.ext.declarative import declarative_base\n",
    "from sqlalchemy import Column, String, Float, Integer\n",
    "from sqlalchemy import create_engine\n",
    "from sqlalchemy.orm import Session"
   ]
  },
  {
   "cell_type": "code",
   "execution_count": 5,
   "metadata": {},
   "outputs": [],
   "source": [
    "# Create a base class for declarating class definitions to produce Table objects\n",
    "Base = declarative_base()\n",
    "# Create a reference to the dataset\n",
    "database_path = Path(\"Resources/sunshine.sqlite\")\n",
    "# Create Database Connection\n",
    "engine = create_engine(f\"sqlite:///{database_path}\")\n",
    "Base.metadata.create_all(engine)"
   ]
  },
  {
   "cell_type": "code",
   "execution_count": 6,
   "metadata": {},
   "outputs": [],
   "source": [
    "from sqlalchemy.orm import Session\n",
    "session = Session(bind=engine)"
   ]
  },
  {
   "cell_type": "code",
   "execution_count": null,
   "metadata": {},
   "outputs": [],
   "source": [
    "class sunshine(Base):\n",
    "    __tablename__=\"sunshine_hour\"    \n",
    "    id=Column(Integer, primary_key=True)\n",
    "    Country TEXT,\n",
    "    City TEXT,\n",
    "    Jan REAL,\n",
    "    Apr REAL,\n",
    "    Jul REAL,\n",
    "    Oct REAL,\n",
    "    Year REAL"
   ]
  }
 ],
 "metadata": {
  "kernelspec": {
   "display_name": "dev",
   "language": "python",
   "name": "python3"
  },
  "language_info": {
   "codemirror_mode": {
    "name": "ipython",
    "version": 3
   },
   "file_extension": ".py",
   "mimetype": "text/x-python",
   "name": "python",
   "nbconvert_exporter": "python",
   "pygments_lexer": "ipython3",
   "version": "3.10.11"
  },
  "orig_nbformat": 4
 },
 "nbformat": 4,
 "nbformat_minor": 2
}
