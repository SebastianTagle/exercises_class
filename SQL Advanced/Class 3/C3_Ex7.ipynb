{
 "cells": [
  {
   "cell_type": "code",
   "execution_count": 1,
   "metadata": {},
   "outputs": [],
   "source": [
    "# Ignore SQLITE warnings related to Decimal numbers in the Chinook database\n",
    "import warnings\n",
    "warnings.filterwarnings('ignore')"
   ]
  },
  {
   "cell_type": "code",
   "execution_count": 2,
   "metadata": {},
   "outputs": [],
   "source": [
    "# Import Dependencies\n",
    "import sqlalchemy\n",
    "from sqlalchemy.ext.automap import automap_base\n",
    "from sqlalchemy.orm import Session\n",
    "from sqlalchemy import create_engine\n",
    "from sqlalchemy import func"
   ]
  },
  {
   "cell_type": "code",
   "execution_count": 19,
   "metadata": {},
   "outputs": [],
   "source": [
    "# Create an engine for the chinook.sqlite database\n",
    "engine = create_engine(\"sqlite:///chinook.sqlite\", echo=False)\n",
    "#engine = create_engine(\"sqlite:///titanic.sqlite\", echo=False)"
   ]
  },
  {
   "cell_type": "code",
   "execution_count": 20,
   "metadata": {},
   "outputs": [
    {
     "data": {
      "text/plain": [
       "['albums',\n",
       " 'artists',\n",
       " 'customers',\n",
       " 'employees',\n",
       " 'genres',\n",
       " 'invoice_items',\n",
       " 'invoices',\n",
       " 'tracks',\n",
       " 'media_types',\n",
       " 'playlists']"
      ]
     },
     "execution_count": 20,
     "metadata": {},
     "output_type": "execute_result"
    }
   ],
   "source": [
    "# Reflect Database into ORM classes\n",
    "Base = automap_base()\n",
    "Base.prepare(autoload_with=engine)\n",
    "Base.classes.keys()"
   ]
  },
  {
   "cell_type": "code",
   "execution_count": 5,
   "metadata": {},
   "outputs": [],
   "source": [
    "# Save a reference to the invoices table as `Invoices`\n",
    "Invoices = Base.classes.invoices"
   ]
  },
  {
   "cell_type": "code",
   "execution_count": 6,
   "metadata": {},
   "outputs": [],
   "source": [
    "# Create a database session object\n",
    "session = Session(engine)"
   ]
  },
  {
   "cell_type": "code",
   "execution_count": 7,
   "metadata": {},
   "outputs": [
    {
     "data": {
      "text/plain": [
       "[('Argentina',),\n",
       " ('Australia',),\n",
       " ('Austria',),\n",
       " ('Belgium',),\n",
       " ('Brazil',),\n",
       " ('Canada',),\n",
       " ('Chile',),\n",
       " ('Czech Republic',),\n",
       " ('Denmark',),\n",
       " ('Finland',),\n",
       " ('France',),\n",
       " ('Germany',),\n",
       " ('Hungary',),\n",
       " ('India',),\n",
       " ('Ireland',),\n",
       " ('Italy',),\n",
       " ('Netherlands',),\n",
       " ('Norway',),\n",
       " ('Poland',),\n",
       " ('Portugal',),\n",
       " ('Spain',),\n",
       " ('Sweden',),\n",
       " ('USA',),\n",
       " ('United Kingdom',)]"
      ]
     },
     "execution_count": 7,
     "metadata": {},
     "output_type": "execute_result"
    }
   ],
   "source": [
    "# List all of the countries found in the invoices table\n",
    "session.query(Invoices.BillingCountry).group_by(Invoices.BillingCountry).all()\n",
    "\n",
    "# Alternative Solution using `distinct`\n",
    "# session.query(Invoices.BillingCountry).distinct().all()"
   ]
  },
  {
   "cell_type": "code",
   "execution_count": 8,
   "metadata": {},
   "outputs": [
    {
     "data": {
      "text/plain": [
       "[('USA', Decimal('523.06')),\n",
       " ('Canada', Decimal('303.96')),\n",
       " ('France', Decimal('195.10')),\n",
       " ('Brazil', Decimal('190.10')),\n",
       " ('Germany', Decimal('156.48')),\n",
       " ('United Kingdom', Decimal('112.86')),\n",
       " ('Czech Republic', Decimal('90.24')),\n",
       " ('Portugal', Decimal('77.24')),\n",
       " ('India', Decimal('75.26')),\n",
       " ('Chile', Decimal('46.62')),\n",
       " ('Ireland', Decimal('45.62')),\n",
       " ('Hungary', Decimal('45.62')),\n",
       " ('Austria', Decimal('42.62')),\n",
       " ('Finland', Decimal('41.62')),\n",
       " ('Netherlands', Decimal('40.62')),\n",
       " ('Norway', Decimal('39.62')),\n",
       " ('Sweden', Decimal('38.62')),\n",
       " ('Poland', Decimal('37.62')),\n",
       " ('Italy', Decimal('37.62')),\n",
       " ('Denmark', Decimal('37.62')),\n",
       " ('Australia', Decimal('37.62')),\n",
       " ('Argentina', Decimal('37.62')),\n",
       " ('Spain', Decimal('37.62')),\n",
       " ('Belgium', Decimal('37.62'))]"
      ]
     },
     "execution_count": 8,
     "metadata": {},
     "output_type": "execute_result"
    }
   ],
   "source": [
    "# Design a query that lists the invoices totals for each billing country \n",
    "# and sort the output in descending order.\n",
    "session.query(Invoices.BillingCountry, func.sum(Invoices.Total)).\\\n",
    "    group_by(Invoices.BillingCountry).\\\n",
    "    order_by(func.sum(Invoices.Total).desc()).all()"
   ]
  },
  {
   "cell_type": "code",
   "execution_count": 9,
   "metadata": {},
   "outputs": [],
   "source": [
    "# Save a reference to the invoice_items table as `Items`\n",
    "Items = Base.classes.invoice_items"
   ]
  },
  {
   "cell_type": "code",
   "execution_count": 10,
   "metadata": {},
   "outputs": [
    {
     "data": {
      "text/plain": [
       "[('10012-2612',),\n",
       " ('2113',),\n",
       " ('32801',),\n",
       " ('53703',),\n",
       " ('60611',),\n",
       " ('76110',),\n",
       " ('84102',),\n",
       " ('85719',),\n",
       " ('89503',),\n",
       " ('94040-111',),\n",
       " ('94043-1351',),\n",
       " ('95014',),\n",
       " ('98052-8300',)]"
      ]
     },
     "execution_count": 10,
     "metadata": {},
     "output_type": "execute_result"
    }
   ],
   "source": [
    "# List all of the Billing Postal Codes for the USA.\n",
    "results = session.query(Invoices.BillingPostalCode).\\\n",
    "    filter(Invoices.BillingCountry == 'USA').group_by(Invoices.BillingPostalCode).all()\n",
    "results"
   ]
  },
  {
   "cell_type": "code",
   "execution_count": 11,
   "metadata": {},
   "outputs": [
    {
     "data": {
      "text/plain": [
       "Decimal('523.0600000000')"
      ]
     },
     "execution_count": 11,
     "metadata": {},
     "output_type": "execute_result"
    }
   ],
   "source": [
    "# Calculate the Item Totals (sum(UnitPrice * Quantity)) for the USA\n",
    "session.query(func.sum(Items.UnitPrice * Items.Quantity)).\\\n",
    "    filter(Invoices.InvoiceId == Items.InvoiceId).\\\n",
    "    filter(Invoices.BillingCountry == 'USA').scalar()"
   ]
  },
  {
   "cell_type": "code",
   "execution_count": 12,
   "metadata": {},
   "outputs": [
    {
     "data": {
      "text/plain": [
       "[('76110', Decimal('47.6200000000')),\n",
       " ('60611', Decimal('43.6200000000')),\n",
       " ('84102', Decimal('43.6200000000')),\n",
       " ('53703', Decimal('42.6200000000')),\n",
       " ('94040-111', Decimal('39.6200000000')),\n",
       " ('98052-8300', Decimal('39.6200000000')),\n",
       " ('32801', Decimal('39.6200000000')),\n",
       " ('95014', Decimal('38.6200000000')),\n",
       " ('94043-1351', Decimal('37.6200000000')),\n",
       " ('89503', Decimal('37.6200000000')),\n",
       " ('85719', Decimal('37.6200000000')),\n",
       " ('2113', Decimal('37.6200000000')),\n",
       " ('10012-2612', Decimal('37.6200000000'))]"
      ]
     },
     "execution_count": 12,
     "metadata": {},
     "output_type": "execute_result"
    }
   ],
   "source": [
    "# Calculate the Item Totals `sum(UnitPrice * Quantity)` for each Billing Postal Code in the USA\n",
    "# Sort the results in descending order by Total\n",
    "session.query(Invoices.BillingPostalCode, func.sum(Items.UnitPrice * Items.Quantity)).\\\n",
    "    filter(Invoices.InvoiceId == Items.InvoiceId).\\\n",
    "    filter(Invoices.BillingCountry == 'USA').\\\n",
    "    group_by(Invoices.BillingPostalCode).\\\n",
    "    order_by(func.sum(Items.UnitPrice * Items.Quantity).desc()).all()"
   ]
  },
  {
   "cell_type": "code",
   "execution_count": null,
   "metadata": {},
   "outputs": [],
   "source": []
  }
 ],
 "metadata": {
  "kernelspec": {
   "display_name": "dev",
   "language": "python",
   "name": "python3"
  },
  "language_info": {
   "codemirror_mode": {
    "name": "ipython",
    "version": 3
   },
   "file_extension": ".py",
   "mimetype": "text/x-python",
   "name": "python",
   "nbconvert_exporter": "python",
   "pygments_lexer": "ipython3",
   "version": "3.10.11"
  },
  "orig_nbformat": 4
 },
 "nbformat": 4,
 "nbformat_minor": 2
}
