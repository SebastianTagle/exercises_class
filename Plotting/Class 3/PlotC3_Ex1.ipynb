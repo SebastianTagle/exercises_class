{
 "cells": [
  {
   "cell_type": "code",
   "execution_count": 4,
   "metadata": {},
   "outputs": [
    {
     "name": "stdout",
     "output_type": "stream",
     "text": [
      "Collecting scipy\n",
      "  Downloading scipy-1.11.1-cp311-cp311-win_amd64.whl (44.0 MB)\n",
      "                                              0.0/44.0 MB ? eta -:--:--\n",
      "                                              0.1/44.0 MB 2.3 MB/s eta 0:00:19\n",
      "                                              0.3/44.0 MB 3.8 MB/s eta 0:00:12\n",
      "                                              0.8/44.0 MB 6.6 MB/s eta 0:00:07\n",
      "     -                                        2.1/44.0 MB 12.3 MB/s eta 0:00:04\n",
      "     ---                                      3.5/44.0 MB 16.0 MB/s eta 0:00:03\n",
      "     ----                                     5.2/44.0 MB 19.6 MB/s eta 0:00:02\n",
      "     ------                                   6.9/44.0 MB 22.0 MB/s eta 0:00:02\n",
      "     -------                                  8.7/44.0 MB 25.2 MB/s eta 0:00:02\n",
      "     --------                                10.1/44.0 MB 25.8 MB/s eta 0:00:02\n",
      "     ---------                               10.7/44.0 MB 29.7 MB/s eta 0:00:02\n",
      "     ----------                              12.3/44.0 MB 31.2 MB/s eta 0:00:02\n",
      "     ------------                            13.7/44.0 MB 32.8 MB/s eta 0:00:01\n",
      "     -------------                           15.3/44.0 MB 31.2 MB/s eta 0:00:01\n",
      "     --------------                          16.8/44.0 MB 31.2 MB/s eta 0:00:01\n",
      "     ----------------                        18.3/44.0 MB 31.2 MB/s eta 0:00:01\n",
      "     -----------------                       19.8/44.0 MB 29.7 MB/s eta 0:00:01\n",
      "     ------------------                      21.2/44.0 MB 32.7 MB/s eta 0:00:01\n",
      "     --------------------                    22.7/44.0 MB 32.7 MB/s eta 0:00:01\n",
      "     ---------------------                   24.2/44.0 MB 32.7 MB/s eta 0:00:01\n",
      "     ----------------------                  25.5/44.0 MB 31.2 MB/s eta 0:00:01\n",
      "     -----------------------                 27.0/44.0 MB 31.2 MB/s eta 0:00:01\n",
      "     -------------------------               28.4/44.0 MB 31.2 MB/s eta 0:00:01\n",
      "     --------------------------              29.7/44.0 MB 29.7 MB/s eta 0:00:01\n",
      "     ---------------------------             31.2/44.0 MB 32.8 MB/s eta 0:00:01\n",
      "     ----------------------------            32.2/44.0 MB 31.2 MB/s eta 0:00:01\n",
      "     -----------------------------           33.1/44.0 MB 28.4 MB/s eta 0:00:01\n",
      "     ------------------------------          34.3/44.0 MB 28.5 MB/s eta 0:00:01\n",
      "     ------------------------------          34.3/44.0 MB 28.5 MB/s eta 0:00:01\n",
      "     ------------------------------          34.3/44.0 MB 28.5 MB/s eta 0:00:01\n",
      "     ----------------------------------      38.6/44.0 MB 28.4 MB/s eta 0:00:01\n",
      "     -----------------------------------     40.1/44.0 MB 28.5 MB/s eta 0:00:01\n",
      "     ------------------------------------    41.4/44.0 MB 27.3 MB/s eta 0:00:01\n",
      "     --------------------------------------  43.1/44.0 MB 31.2 MB/s eta 0:00:01\n",
      "     --------------------------------------  44.0/44.0 MB 31.2 MB/s eta 0:00:01\n",
      "     --------------------------------------  44.0/44.0 MB 31.2 MB/s eta 0:00:01\n",
      "     --------------------------------------  44.0/44.0 MB 31.2 MB/s eta 0:00:01\n",
      "     --------------------------------------  44.0/44.0 MB 31.2 MB/s eta 0:00:01\n",
      "     --------------------------------------- 44.0/44.0 MB 19.2 MB/s eta 0:00:00\n",
      "Requirement already satisfied: numpy<1.28.0,>=1.21.6 in c:\\users\\sebat\\appdata\\local\\programs\\python\\python311\\lib\\site-packages (from scipy) (1.25.0)\n",
      "Installing collected packages: scipy\n",
      "Successfully installed scipy-1.11.1\n"
     ]
    }
   ],
   "source": [
    " # Dependencies\n",
    "!pip install scipy\n",
    "import pandas as pd\n",
    "import matplotlib.pyplot as plt\n",
    "import scipy.stats as st"
   ]
  },
  {
   "cell_type": "code",
   "execution_count": 6,
   "metadata": {},
   "outputs": [
    {
     "data": {
      "text/html": [
       "<div>\n",
       "<style scoped>\n",
       "    .dataframe tbody tr th:only-of-type {\n",
       "        vertical-align: middle;\n",
       "    }\n",
       "\n",
       "    .dataframe tbody tr th {\n",
       "        vertical-align: top;\n",
       "    }\n",
       "\n",
       "    .dataframe thead th {\n",
       "        text-align: right;\n",
       "    }\n",
       "</style>\n",
       "<table border=\"1\" class=\"dataframe\">\n",
       "  <thead>\n",
       "    <tr style=\"text-align: right;\">\n",
       "      <th></th>\n",
       "      <th>MedInc</th>\n",
       "      <th>HouseAge</th>\n",
       "      <th>AveRooms</th>\n",
       "      <th>AveBedrms</th>\n",
       "      <th>Population</th>\n",
       "      <th>AveOccup</th>\n",
       "      <th>Latitude</th>\n",
       "      <th>Longitude</th>\n",
       "    </tr>\n",
       "  </thead>\n",
       "  <tbody>\n",
       "    <tr>\n",
       "      <th>0</th>\n",
       "      <td>5.2742</td>\n",
       "      <td>17.0</td>\n",
       "      <td>8.908654</td>\n",
       "      <td>1.884615</td>\n",
       "      <td>351.0</td>\n",
       "      <td>1.687500</td>\n",
       "      <td>32.98</td>\n",
       "      <td>-117.27</td>\n",
       "    </tr>\n",
       "    <tr>\n",
       "      <th>1</th>\n",
       "      <td>1.8438</td>\n",
       "      <td>52.0</td>\n",
       "      <td>3.069847</td>\n",
       "      <td>1.044293</td>\n",
       "      <td>2382.0</td>\n",
       "      <td>4.057922</td>\n",
       "      <td>34.07</td>\n",
       "      <td>-118.26</td>\n",
       "    </tr>\n",
       "    <tr>\n",
       "      <th>2</th>\n",
       "      <td>7.0691</td>\n",
       "      <td>13.0</td>\n",
       "      <td>6.689697</td>\n",
       "      <td>1.009697</td>\n",
       "      <td>2444.0</td>\n",
       "      <td>2.962424</td>\n",
       "      <td>37.57</td>\n",
       "      <td>-121.87</td>\n",
       "    </tr>\n",
       "    <tr>\n",
       "      <th>3</th>\n",
       "      <td>5.4719</td>\n",
       "      <td>38.0</td>\n",
       "      <td>5.890080</td>\n",
       "      <td>0.957105</td>\n",
       "      <td>1228.0</td>\n",
       "      <td>3.292225</td>\n",
       "      <td>37.52</td>\n",
       "      <td>-122.28</td>\n",
       "    </tr>\n",
       "    <tr>\n",
       "      <th>4</th>\n",
       "      <td>4.0156</td>\n",
       "      <td>35.0</td>\n",
       "      <td>6.195312</td>\n",
       "      <td>1.171875</td>\n",
       "      <td>669.0</td>\n",
       "      <td>5.226562</td>\n",
       "      <td>33.93</td>\n",
       "      <td>-117.41</td>\n",
       "    </tr>\n",
       "  </tbody>\n",
       "</table>\n",
       "</div>"
      ],
      "text/plain": [
       "   MedInc  HouseAge  AveRooms  AveBedrms  Population  AveOccup  Latitude  \\\n",
       "0  5.2742      17.0  8.908654   1.884615       351.0  1.687500     32.98   \n",
       "1  1.8438      52.0  3.069847   1.044293      2382.0  4.057922     34.07   \n",
       "2  7.0691      13.0  6.689697   1.009697      2444.0  2.962424     37.57   \n",
       "3  5.4719      38.0  5.890080   0.957105      1228.0  3.292225     37.52   \n",
       "4  4.0156      35.0  6.195312   1.171875       669.0  5.226562     33.93   \n",
       "\n",
       "   Longitude  \n",
       "0    -117.27  \n",
       "1    -118.26  \n",
       "2    -121.87  \n",
       "3    -122.28  \n",
       "4    -117.41  "
      ]
     },
     "execution_count": 6,
     "metadata": {},
     "output_type": "execute_result"
    }
   ],
   "source": [
    "california_data= pd.read_csv(\"California_housing.csv\")\n",
    "california_data.head()"
   ]
  },
  {
   "cell_type": "code",
   "execution_count": 7,
   "metadata": {},
   "outputs": [
    {
     "name": "stdout",
     "output_type": "stream",
     "text": [
      "<class 'pandas.core.frame.DataFrame'>\n",
      "RangeIndex: 3000 entries, 0 to 2999\n",
      "Data columns (total 8 columns):\n",
      " #   Column      Non-Null Count  Dtype  \n",
      "---  ------      --------------  -----  \n",
      " 0   MedInc      3000 non-null   float64\n",
      " 1   HouseAge    3000 non-null   float64\n",
      " 2   AveRooms    3000 non-null   float64\n",
      " 3   AveBedrms   3000 non-null   float64\n",
      " 4   Population  3000 non-null   float64\n",
      " 5   AveOccup    3000 non-null   float64\n",
      " 6   Latitude    3000 non-null   float64\n",
      " 7   Longitude   3000 non-null   float64\n",
      "dtypes: float64(8)\n",
      "memory usage: 187.6 KB\n"
     ]
    }
   ],
   "source": [
    "#esto es para saber la información que trae el archivo.\n",
    "california_data.info()"
   ]
  },
  {
   "cell_type": "code",
   "execution_count": 19,
   "metadata": {},
   "outputs": [
    {
     "data": {
      "image/png": "[encoded data removed]",
      "text/plain": [
       "<Figure size 640x480 with 1 Axes>"
      ]
     },
     "metadata": {},
     "output_type": "display_data"
    }
   ],
   "source": [
    "#bins es el numero de barritas en el que divido la muestra.\n",
    "plt.hist(california_data[\"Population\"],bins=50)\n",
    "plt.xlabel(\"Population\")\n",
    "plt.ylabel(\"Counts\")\n",
    "plt.show()"
   ]
  },
  {
   "cell_type": "code",
   "execution_count": 17,
   "metadata": {},
   "outputs": [
    {
     "name": "stdout",
     "output_type": "stream",
     "text": [
      "1387.9633333333334\n",
      "1152.5\n",
      "0    1128.0\n",
      "Name: Population, dtype: float64\n"
     ]
    }
   ],
   "source": [
    "print(california_data[\"Population\"].mean())\n",
    "print(california_data[\"Population\"].median())\n",
    "print(california_data[\"Population\"].mode())"
   ]
  },
  {
   "cell_type": "code",
   "execution_count": 13,
   "metadata": {},
   "outputs": [
    {
     "data": {
      "image/png": "[encoded data removed]",
      "text/plain": [
       "<Figure size 640x480 with 1 Axes>"
      ]
     },
     "metadata": {},
     "output_type": "display_data"
    },
    {
     "name": "stdout",
     "output_type": "stream",
     "text": [
      "NormaltestResult(statistic=1.5206053753517599, pvalue=0.4675248915676281)\n",
      "NormaltestResult(statistic=271.1900891393199, pvalue=1.2936606553610074e-59)\n"
     ]
    }
   ],
   "source": [
    "\n",
    "plt.hist(california_data[\"HouseAge\"])\n",
    "plt.xlabel(\"House Age\")\n",
    "plt.ylabel(\"Counts\")\n",
    "plt.show()\n",
    "#\n",
    "print(st.normaltest(california_data[\"HouseAge\"].sample(50)))\n",
    "#\n",
    "print(st.normaltest(california_data[\"HouseAge\"].sample(3000)))"
   ]
  },
  {
   "cell_type": "code",
   "execution_count": null,
   "metadata": {},
   "outputs": [],
   "source": []
  }
 ],
 "metadata": {
  "kernelspec": {
   "display_name": "Python 3",
   "language": "python",
   "name": "python3"
  },
  "language_info": {
   "codemirror_mode": {
    "name": "ipython",
    "version": 3
   },
   "file_extension": ".py",
   "mimetype": "text/x-python",
   "name": "python",
   "nbconvert_exporter": "python",
   "pygments_lexer": "ipython3",
   "version": "3.11.4"
  },
  "orig_nbformat": 4
 },
 "nbformat": 4,
 "nbformat_minor": 2
}
