{
 "cells": [
  {
   "cell_type": "code",
   "execution_count": 2,
   "id": "0f02f36f",
   "metadata": {},
   "outputs": [],
   "source": [
    "import pandas as pd"
   ]
  },
  {
   "cell_type": "code",
   "execution_count": 3,
   "id": "f7f40b1b",
   "metadata": {},
   "outputs": [
    {
     "data": {
      "text/html": [
       "<div>\n",
       "<style scoped>\n",
       "    .dataframe tbody tr th:only-of-type {\n",
       "        vertical-align: middle;\n",
       "    }\n",
       "\n",
       "    .dataframe tbody tr th {\n",
       "        vertical-align: top;\n",
       "    }\n",
       "\n",
       "    .dataframe thead th {\n",
       "        text-align: right;\n",
       "    }\n",
       "</style>\n",
       "<table border=\"1\" class=\"dataframe\">\n",
       "  <thead>\n",
       "    <tr style=\"text-align: right;\">\n",
       "      <th></th>\n",
       "      <th>PAINTING</th>\n",
       "      <th>Price</th>\n",
       "      <th>POPULARITY</th>\n",
       "    </tr>\n",
       "  </thead>\n",
       "  <tbody>\n",
       "    <tr>\n",
       "      <th>0</th>\n",
       "      <td>Mona Lisa (Knockoff)</td>\n",
       "      <td>25</td>\n",
       "      <td>Very Popular</td>\n",
       "    </tr>\n",
       "    <tr>\n",
       "      <th>1</th>\n",
       "      <td>Van Gogh (Knockoff)</td>\n",
       "      <td>20</td>\n",
       "      <td>Popular</td>\n",
       "    </tr>\n",
       "    <tr>\n",
       "      <th>2</th>\n",
       "      <td>Starving Artist</td>\n",
       "      <td>10</td>\n",
       "      <td>Average</td>\n",
       "    </tr>\n",
       "    <tr>\n",
       "      <th>3</th>\n",
       "      <td>Toddler Drawing</td>\n",
       "      <td>1</td>\n",
       "      <td>Not Popular</td>\n",
       "    </tr>\n",
       "  </tbody>\n",
       "</table>\n",
       "</div>"
      ],
      "text/plain": [
       "               PAINTING  Price    POPULARITY\n",
       "0  Mona Lisa (Knockoff)     25  Very Popular\n",
       "1   Van Gogh (Knockoff)     20       Popular\n",
       "2       Starving Artist     10       Average\n",
       "3       Toddler Drawing      1   Not Popular"
      ]
     },
     "execution_count": 3,
     "metadata": {},
     "output_type": "execute_result"
    }
   ],
   "source": [
    "data_painting=[{\"PAINTING\":\"Mona Lisa (Knockoff)\",\"Price\":25,\"POPULARITY\":\"Very Popular\"},\n",
    "              {\"PAINTING\":\"Van Gogh (Knockoff)\",\"Price\":20,\"POPULARITY\":\"Popular\"},\n",
    "              {\"PAINTING\":\"Starving Artist\",\"Price\":10,\"POPULARITY\":\"Average\"},\n",
    "              {\"PAINTING\":\"Toddler Drawing\",\"Price\":1,\"POPULARITY\":\"Not Popular\"}]\n",
    "painting=pd.DataFrame(data_painting)\n",
    "painting"
   ]
  },
  {
   "cell_type": "code",
   "execution_count": 4,
   "id": "16d0a786",
   "metadata": {},
   "outputs": [],
   "source": [
    "data_frame={\"Frame\":[\"Orante\",\"Classical\",\"Modern\",\"Wood\",\"Cardboard\"],\n",
    "           \"Price\":[15,12.5,10,5,1],\n",
    "           \"Sales\":[100,200,150,300,\"N/A\"]}\n",
    "frame=pd.DataFrame(data_frame)\n"
   ]
  },
  {
   "cell_type": "code",
   "execution_count": 5,
   "id": "85db0e5f",
   "metadata": {},
   "outputs": [
    {
     "data": {
      "text/plain": [
       "Frame    5\n",
       "Price    5\n",
       "Sales    5\n",
       "dtype: int64"
      ]
     },
     "execution_count": 5,
     "metadata": {},
     "output_type": "execute_result"
    }
   ],
   "source": [
    "frame.count()\n"
   ]
  },
  {
   "cell_type": "code",
   "execution_count": 6,
   "id": "d53d08a0",
   "metadata": {},
   "outputs": [
    {
     "data": {
      "text/html": [
       "<div>\n",
       "<style scoped>\n",
       "    .dataframe tbody tr th:only-of-type {\n",
       "        vertical-align: middle;\n",
       "    }\n",
       "\n",
       "    .dataframe tbody tr th {\n",
       "        vertical-align: top;\n",
       "    }\n",
       "\n",
       "    .dataframe thead th {\n",
       "        text-align: right;\n",
       "    }\n",
       "</style>\n",
       "<table border=\"1\" class=\"dataframe\">\n",
       "  <thead>\n",
       "    <tr style=\"text-align: right;\">\n",
       "      <th></th>\n",
       "      <th>Price</th>\n",
       "    </tr>\n",
       "  </thead>\n",
       "  <tbody>\n",
       "    <tr>\n",
       "      <th>count</th>\n",
       "      <td>5.000000</td>\n",
       "    </tr>\n",
       "    <tr>\n",
       "      <th>mean</th>\n",
       "      <td>8.700000</td>\n",
       "    </tr>\n",
       "    <tr>\n",
       "      <th>std</th>\n",
       "      <td>5.674504</td>\n",
       "    </tr>\n",
       "    <tr>\n",
       "      <th>min</th>\n",
       "      <td>1.000000</td>\n",
       "    </tr>\n",
       "    <tr>\n",
       "      <th>25%</th>\n",
       "      <td>5.000000</td>\n",
       "    </tr>\n",
       "    <tr>\n",
       "      <th>50%</th>\n",
       "      <td>10.000000</td>\n",
       "    </tr>\n",
       "    <tr>\n",
       "      <th>75%</th>\n",
       "      <td>12.500000</td>\n",
       "    </tr>\n",
       "    <tr>\n",
       "      <th>max</th>\n",
       "      <td>15.000000</td>\n",
       "    </tr>\n",
       "  </tbody>\n",
       "</table>\n",
       "</div>"
      ],
      "text/plain": [
       "           Price\n",
       "count   5.000000\n",
       "mean    8.700000\n",
       "std     5.674504\n",
       "min     1.000000\n",
       "25%     5.000000\n",
       "50%    10.000000\n",
       "75%    12.500000\n",
       "max    15.000000"
      ]
     },
     "execution_count": 6,
     "metadata": {},
     "output_type": "execute_result"
    }
   ],
   "source": [
    "frame.describe()\n"
   ]
  },
  {
   "cell_type": "code",
   "execution_count": null,
   "id": "48b8cde2",
   "metadata": {},
   "outputs": [],
   "source": []
  }
 ],
 "metadata": {
  "kernelspec": {
   "display_name": "Python 3 (ipykernel)",
   "language": "python",
   "name": "python3"
  },
  "language_info": {
   "codemirror_mode": {
    "name": "ipython",
    "version": 3
   },
   "file_extension": ".py",
   "mimetype": "text/x-python",
   "name": "python",
   "nbconvert_exporter": "python",
   "pygments_lexer": "ipython3",
   "version": "3.11.4"
  }
 },
 "nbformat": 4,
 "nbformat_minor": 5
}
