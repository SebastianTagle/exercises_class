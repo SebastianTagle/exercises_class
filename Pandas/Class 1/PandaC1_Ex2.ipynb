{
 "cells": [
  {
   "cell_type": "code",
   "execution_count": 1,
   "id": "462c63af",
   "metadata": {},
   "outputs": [
    {
     "name": "stdout",
     "output_type": "stream",
     "text": [
      "What title are you looking for?Alien\n"
     ]
    }
   ],
   "source": [
    "import os\n",
    "import csv\n",
    "\n",
    "book=input(\"What title are you looking for?\")"
   ]
  },
  {
   "cell_type": "code",
   "execution_count": 21,
   "id": "047f5baa",
   "metadata": {},
   "outputs": [
    {
     "data": {
      "text/plain": [
       "'Class 2 Python\\\\comic_books.csv'"
      ]
     },
     "execution_count": 21,
     "metadata": {},
     "output_type": "execute_result"
    }
   ],
   "source": [
    "#dataopen= os.path.join(\"C:/Users/sebat/ClassRepository/exercises_class/Class 2 Python/comic_books.csv\")\n",
    "#dataopen\n",
    "dataopen= os.path.join(\"Class 2 Python\",\"comic_books.csv\")\n",
    "dataopen"
   ]
  },
  {
   "cell_type": "code",
   "execution_count": 20,
   "id": "d5128a90",
   "metadata": {},
   "outputs": [
    {
     "name": "stdout",
     "output_type": "stream",
     "text": [
      "your book Alien was published in 2015 by DC Comics in New York\n",
      "we dont seem to have what you are looking for\n"
     ]
    }
   ],
   "source": [
    "with open(dataopen,encoding=\"utf8\") as csvfile:\n",
    "    csvreader=csv.reader(csvfile,delimiter=\",\")\n",
    "   \n",
    "    found=False\n",
    "    \n",
    "    for row in csvreader:\n",
    "        if row[0]==book:\n",
    "            print(\"your book \"+ book +\" was published in \"+ str(row[9]) +\" by \"+row[8]+\" in \"+row[7])\n",
    "            found==True\n",
    "\n",
    "    if found==False:\n",
    "        print(\"we dont seem to have what you are looking for\")\n",
    "          "
   ]
  },
  {
   "cell_type": "code",
   "execution_count": 18,
   "id": "7c8f35ed",
   "metadata": {
    "scrolled": true
   },
   "outputs": [
    {
     "name": "stdout",
     "output_type": "stream",
     "text": [
      "<_csv.reader object at 0x00000271FF3D89A0>\n"
     ]
    }
   ],
   "source": [
    "print(csvreader)\n",
    "\n",
    "              "
   ]
  },
  {
   "cell_type": "code",
   "execution_count": null,
   "id": "ca166a36",
   "metadata": {},
   "outputs": [],
   "source": []
  }
 ],
 "metadata": {
  "kernelspec": {
   "display_name": "Python 3 (ipykernel)",
   "language": "python",
   "name": "python3"
  },
  "language_info": {
   "codemirror_mode": {
    "name": "ipython",
    "version": 3
   },
   "file_extension": ".py",
   "mimetype": "text/x-python",
   "name": "python",
   "nbconvert_exporter": "python",
   "pygments_lexer": "ipython3",
   "version": "3.10.11"
  }
 },
 "nbformat": 4,
 "nbformat_minor": 5
}
