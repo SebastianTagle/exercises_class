{
 "cells": [
  {
   "cell_type": "code",
   "execution_count": 1,
   "id": "594722cf",
   "metadata": {},
   "outputs": [],
   "source": [
    "import pandas as pd"
   ]
  },
  {
   "cell_type": "code",
   "execution_count": 23,
   "id": "2b258e30",
   "metadata": {},
   "outputs": [],
   "source": [
    "data_file=\"C:/Users/sebat/ClassRepository/exercises_class/Untitled Folder/Untitled Folder/car_purchases.csv\""
   ]
  },
  {
   "cell_type": "code",
   "execution_count": 24,
   "id": "a3acc15d",
   "metadata": {},
   "outputs": [
    {
     "data": {
      "text/html": [
       "<div>\n",
       "<style scoped>\n",
       "    .dataframe tbody tr th:only-of-type {\n",
       "        vertical-align: middle;\n",
       "    }\n",
       "\n",
       "    .dataframe tbody tr th {\n",
       "        vertical-align: top;\n",
       "    }\n",
       "\n",
       "    .dataframe thead th {\n",
       "        text-align: right;\n",
       "    }\n",
       "</style>\n",
       "<table border=\"1\" class=\"dataframe\">\n",
       "  <thead>\n",
       "    <tr style=\"text-align: right;\">\n",
       "      <th></th>\n",
       "      <th>id</th>\n",
       "      <th>Full Name</th>\n",
       "      <th>Gender</th>\n",
       "      <th>Amount</th>\n",
       "      <th>Car</th>\n",
       "    </tr>\n",
       "  </thead>\n",
       "  <tbody>\n",
       "    <tr>\n",
       "      <th>0</th>\n",
       "      <td>1</td>\n",
       "      <td>Minnnie Rean</td>\n",
       "      <td>male</td>\n",
       "      <td>15484.5</td>\n",
       "      <td>Jeep</td>\n",
       "    </tr>\n",
       "    <tr>\n",
       "      <th>1</th>\n",
       "      <td>2</td>\n",
       "      <td>Ursa Torricella</td>\n",
       "      <td>female</td>\n",
       "      <td>13443.3</td>\n",
       "      <td>Saturn</td>\n",
       "    </tr>\n",
       "    <tr>\n",
       "      <th>2</th>\n",
       "      <td>3</td>\n",
       "      <td>Joyann Pirolini</td>\n",
       "      <td>male</td>\n",
       "      <td>9095.6</td>\n",
       "      <td>Ram</td>\n",
       "    </tr>\n",
       "    <tr>\n",
       "      <th>3</th>\n",
       "      <td>4</td>\n",
       "      <td>Sharl Ridsdell</td>\n",
       "      <td>female</td>\n",
       "      <td>11871.6</td>\n",
       "      <td>Dodge</td>\n",
       "    </tr>\n",
       "    <tr>\n",
       "      <th>4</th>\n",
       "      <td>5</td>\n",
       "      <td>Laurence Jovasevic</td>\n",
       "      <td>male</td>\n",
       "      <td>13459.8</td>\n",
       "      <td>Chrysler</td>\n",
       "    </tr>\n",
       "  </tbody>\n",
       "</table>\n",
       "</div>"
      ],
      "text/plain": [
       "   id           Full Name  Gender   Amount       Car\n",
       "0   1        Minnnie Rean    male  15484.5      Jeep\n",
       "1   2     Ursa Torricella  female  13443.3    Saturn\n",
       "2   3     Joyann Pirolini    male   9095.6       Ram\n",
       "3   4      Sharl Ridsdell  female  11871.6     Dodge\n",
       "4   5  Laurence Jovasevic    male  13459.8  Chrysler"
      ]
     },
     "execution_count": 24,
     "metadata": {},
     "output_type": "execute_result"
    }
   ],
   "source": [
    "data_file_df=pd.read_csv(data_file)\n",
    "data_file_df.head()"
   ]
  },
  {
   "cell_type": "code",
   "execution_count": null,
   "id": "4d84b943",
   "metadata": {},
   "outputs": [],
   "source": []
  },
  {
   "cell_type": "code",
   "execution_count": null,
   "id": "cf794d1f",
   "metadata": {},
   "outputs": [],
   "source": []
  }
 ],
 "metadata": {
  "kernelspec": {
   "display_name": "Python 3 (ipykernel)",
   "language": "python",
   "name": "python3"
  },
  "language_info": {
   "codemirror_mode": {
    "name": "ipython",
    "version": 3
   },
   "file_extension": ".py",
   "mimetype": "text/x-python",
   "name": "python",
   "nbconvert_exporter": "python",
   "pygments_lexer": "ipython3",
   "version": "3.10.11"
  }
 },
 "nbformat": 4,
 "nbformat_minor": 5
}
