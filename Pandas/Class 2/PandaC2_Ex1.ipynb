{
 "cells": [
  {
   "cell_type": "code",
   "execution_count": 1,
   "metadata": {},
   "outputs": [
    {
     "name": "stdout",
     "output_type": "stream",
     "text": [
      "Requirement already satisfied: pandas in c:\\users\\sebat\\appdata\\local\\programs\\python\\python311\\lib\\site-packages (2.0.3)\n",
      "Requirement already satisfied: python-dateutil>=2.8.2 in c:\\users\\sebat\\appdata\\roaming\\python\\python311\\site-packages (from pandas) (2.8.2)\n",
      "Requirement already satisfied: pytz>=2020.1 in c:\\users\\sebat\\appdata\\local\\programs\\python\\python311\\lib\\site-packages (from pandas) (2023.3)\n",
      "Requirement already satisfied: tzdata>=2022.1 in c:\\users\\sebat\\appdata\\local\\programs\\python\\python311\\lib\\site-packages (from pandas) (2023.3)\n",
      "Requirement already satisfied: numpy>=1.21.0 in c:\\users\\sebat\\appdata\\local\\programs\\python\\python311\\lib\\site-packages (from pandas) (1.25.0)\n",
      "Requirement already satisfied: six>=1.5 in c:\\users\\sebat\\appdata\\roaming\\python\\python311\\site-packages (from python-dateutil>=2.8.2->pandas) (1.16.0)\n",
      "Requirement already satisfied: pathlib in c:\\users\\sebat\\appdata\\local\\programs\\python\\python311\\lib\\site-packages (1.0.1)\n"
     ]
    }
   ],
   "source": [
    "!pip install pandas\n",
    "!pip install pathlib\n",
    "import pandas as pd\n",
    "from pathlib import Path"
   ]
  },
  {
   "cell_type": "code",
   "execution_count": 2,
   "metadata": {},
   "outputs": [],
   "source": [
    "datafile=\"C:/Users/sebat/ClassRepository/exercises_class/PANDAS/Class 2/baton_streets.csv\"\n"
   ]
  },
  {
   "cell_type": "code",
   "execution_count": 20,
   "metadata": {},
   "outputs": [
    {
     "data": {
      "text/html": [
       "<div>\n",
       "<style scoped>\n",
       "    .dataframe tbody tr th:only-of-type {\n",
       "        vertical-align: middle;\n",
       "    }\n",
       "\n",
       "    .dataframe tbody tr th {\n",
       "        vertical-align: top;\n",
       "    }\n",
       "\n",
       "    .dataframe thead th {\n",
       "        text-align: right;\n",
       "    }\n",
       "</style>\n",
       "<table border=\"1\" class=\"dataframe\">\n",
       "  <thead>\n",
       "    <tr style=\"text-align: right;\">\n",
       "      <th></th>\n",
       "      <th>STREET NAME ID</th>\n",
       "      <th>STREET FULL NAME</th>\n",
       "      <th>POSTAL COMMUNITY</th>\n",
       "      <th>MUNICIPAL COMMUNITY</th>\n",
       "    </tr>\n",
       "    <tr>\n",
       "      <th>STREET NAME</th>\n",
       "      <th></th>\n",
       "      <th></th>\n",
       "      <th></th>\n",
       "      <th></th>\n",
       "    </tr>\n",
       "  </thead>\n",
       "  <tbody>\n",
       "    <tr>\n",
       "      <th>PRIVATE STREET</th>\n",
       "      <td>1400342</td>\n",
       "      <td>PRIVATE STREET</td>\n",
       "      <td>BATON ROUGE</td>\n",
       "      <td>BATON ROUGE</td>\n",
       "    </tr>\n",
       "    <tr>\n",
       "      <th>4TH</th>\n",
       "      <td>1</td>\n",
       "      <td>N 4TH ST</td>\n",
       "      <td>BATON ROUGE</td>\n",
       "      <td>BATON ROUGE</td>\n",
       "    </tr>\n",
       "    <tr>\n",
       "      <th>11TH</th>\n",
       "      <td>10</td>\n",
       "      <td>S 11TH ST</td>\n",
       "      <td>BATON ROUGE</td>\n",
       "      <td>BATON ROUGE</td>\n",
       "    </tr>\n",
       "    <tr>\n",
       "      <th>ADDINGTON</th>\n",
       "      <td>100</td>\n",
       "      <td>ADDINGTON AVE</td>\n",
       "      <td>BATON ROUGE</td>\n",
       "      <td>BATON ROUGE</td>\n",
       "    </tr>\n",
       "    <tr>\n",
       "      <th>CHALFONT</th>\n",
       "      <td>1000</td>\n",
       "      <td>W CHALFONT DR</td>\n",
       "      <td>BATON ROUGE</td>\n",
       "      <td>PARISH</td>\n",
       "    </tr>\n",
       "  </tbody>\n",
       "</table>\n",
       "</div>"
      ],
      "text/plain": [
       "                STREET NAME ID STREET FULL NAME POSTAL COMMUNITY  \\\n",
       "STREET NAME                                                        \n",
       "PRIVATE STREET         1400342   PRIVATE STREET      BATON ROUGE   \n",
       "4TH                          1         N 4TH ST      BATON ROUGE   \n",
       "11TH                        10        S 11TH ST      BATON ROUGE   \n",
       "ADDINGTON                  100    ADDINGTON AVE      BATON ROUGE   \n",
       "CHALFONT                  1000    W CHALFONT DR      BATON ROUGE   \n",
       "\n",
       "               MUNICIPAL COMMUNITY  \n",
       "STREET NAME                         \n",
       "PRIVATE STREET         BATON ROUGE  \n",
       "4TH                    BATON ROUGE  \n",
       "11TH                   BATON ROUGE  \n",
       "ADDINGTON              BATON ROUGE  \n",
       "CHALFONT                    PARISH  "
      ]
     },
     "execution_count": 20,
     "metadata": {},
     "output_type": "execute_result"
    }
   ],
   "source": [
    "streets=pd.read_csv(datafile)\n",
    "#con esto, yo hago que en vez de indice en la primera columna, tengo el nombre de las calles (o la columna que yo quiera)\n",
    "streets=streets.set_index(\"STREET NAME\")\n",
    "streets.head()"
   ]
  },
  {
   "cell_type": "code",
   "execution_count": 10,
   "metadata": {},
   "outputs": [
    {
     "data": {
      "text/plain": [
       "'BATON ROUGE'"
      ]
     },
     "execution_count": 10,
     "metadata": {},
     "output_type": "execute_result"
    }
   ],
   "source": [
    "#es como un buscarv, busco eso si por los nombres de la fila y despues de la columna\n",
    "street_name=streets.loc[\"ADDINGTON\",\"POSTAL COMMUNITY\"]\n",
    "street_name"
   ]
  },
  {
   "cell_type": "code",
   "execution_count": 11,
   "metadata": {},
   "outputs": [
    {
     "data": {
      "text/plain": [
       "'W CHALFONT DR'"
      ]
     },
     "execution_count": 11,
     "metadata": {},
     "output_type": "execute_result"
    }
   ],
   "source": [
    "#lo mismo solo que lo hago con la referencia de las \"celdas\", que parten desde 0\n",
    "street_name_2=streets.iloc[4,1]\n",
    "street_name_2"
   ]
  },
  {
   "cell_type": "code",
   "execution_count": 12,
   "metadata": {},
   "outputs": [
    {
     "name": "stdout",
     "output_type": "stream",
     "text": [
      "                STREET NAME ID STREET FULL NAME POSTAL COMMUNITY\n",
      "STREET NAME                                                     \n",
      "PRIVATE STREET         1400342   PRIVATE STREET      BATON ROUGE\n",
      "PRIVATE STREET         1400001   PRIVATE STREET      BATON ROUGE\n",
      "PRIVATE STREET         1400015   PRIVATE STREET      BATON ROUGE\n",
      "PRIVATE STREET         1400161   PRIVATE STREET      BATON ROUGE\n",
      "PRIVATE STREET         1400343   PRIVATE STREET      BATON ROUGE\n",
      "...                        ...              ...              ...\n",
      "11TH                         9        N 11TH ST      BATON ROUGE\n",
      "ADDINGTON                  100    ADDINGTON AVE      BATON ROUGE\n",
      "CHALFONT                  1000    W CHALFONT DR      BATON ROUGE\n",
      "CHALFONT                   998    N CHALFONT DR      BATON ROUGE\n",
      "CHALFONT                   999    S CHALFONT DR      BATON ROUGE\n",
      "\n",
      "[329 rows x 3 columns]\n"
     ]
    }
   ],
   "source": [
    "#puede hacer filtros/busquedas tambien por rangos\n",
    "private_to_chalfont = streets.loc[[\"PRIVATE STREET\", \"4TH\", \"11TH\", \"ADDINGTON\",\n",
    "                              \"CHALFONT\"], [\"STREET NAME ID\", \"STREET FULL NAME\", \"POSTAL COMMUNITY\"]]\n",
    "print(private_to_chalfont)"
   ]
  },
  {
   "cell_type": "code",
   "execution_count": 15,
   "metadata": {},
   "outputs": [
    {
     "name": "stdout",
     "output_type": "stream",
     "text": [
      "                STREET NAME ID STREET FULL NAME POSTAL COMMUNITY\n",
      "STREET NAME                                                     \n",
      "PRIVATE STREET         1400342   PRIVATE STREET      BATON ROUGE\n",
      "4TH                          1         N 4TH ST      BATON ROUGE\n",
      "11TH                        10        S 11TH ST      BATON ROUGE\n",
      "ADDINGTON                  100    ADDINGTON AVE      BATON ROUGE\n",
      "CHALFONT                  1000    W CHALFONT DR      BATON ROUGE\n"
     ]
    }
   ],
   "source": [
    "#los mismo aca.\n",
    "also_private_to_chalfont = streets.iloc[0:5, 0:3]\n",
    "print(also_private_to_chalfont)\n"
   ]
  },
  {
   "cell_type": "code",
   "execution_count": 18,
   "metadata": {},
   "outputs": [
    {
     "name": "stdout",
     "output_type": "stream",
     "text": [
      "                STREET NAME ID STREET FULL NAME POSTAL COMMUNITY\n",
      "STREET NAME                                                     \n",
      "PRIVATE STREET         1400342   PRIVATE STREET      BATON ROUGE\n",
      "4TH                          1         N 4TH ST      BATON ROUGE\n",
      "11TH                        10        S 11TH ST      BATON ROUGE\n",
      "ADDINGTON                  100    ADDINGTON AVE      BATON ROUGE\n",
      "CHALFONT                  1000    W CHALFONT DR      BATON ROUGE\n",
      "BURROW                    2307        BURROW RD      BATON ROUGE\n"
     ]
    }
   ],
   "source": [
    "\n",
    "also_private_to_chalfont = streets.iloc[0:6, 0:3]\n",
    "print(also_private_to_chalfont)"
   ]
  },
  {
   "cell_type": "code",
   "execution_count": 22,
   "metadata": {},
   "outputs": [
    {
     "data": {
      "text/html": [
       "<div>\n",
       "<style scoped>\n",
       "    .dataframe tbody tr th:only-of-type {\n",
       "        vertical-align: middle;\n",
       "    }\n",
       "\n",
       "    .dataframe tbody tr th {\n",
       "        vertical-align: top;\n",
       "    }\n",
       "\n",
       "    .dataframe thead th {\n",
       "        text-align: right;\n",
       "    }\n",
       "</style>\n",
       "<table border=\"1\" class=\"dataframe\">\n",
       "  <thead>\n",
       "    <tr style=\"text-align: right;\">\n",
       "      <th></th>\n",
       "      <th>STREET FULL NAME</th>\n",
       "      <th>POSTAL COMMUNITY</th>\n",
       "    </tr>\n",
       "    <tr>\n",
       "      <th>STREET NAME</th>\n",
       "      <th></th>\n",
       "      <th></th>\n",
       "    </tr>\n",
       "  </thead>\n",
       "  <tbody>\n",
       "    <tr>\n",
       "      <th>PRIVATE STREET</th>\n",
       "      <td>PRIVATE STREET</td>\n",
       "      <td>BATON ROUGE</td>\n",
       "    </tr>\n",
       "    <tr>\n",
       "      <th>4TH</th>\n",
       "      <td>N 4TH ST</td>\n",
       "      <td>BATON ROUGE</td>\n",
       "    </tr>\n",
       "    <tr>\n",
       "      <th>11TH</th>\n",
       "      <td>S 11TH ST</td>\n",
       "      <td>BATON ROUGE</td>\n",
       "    </tr>\n",
       "    <tr>\n",
       "      <th>ADDINGTON</th>\n",
       "      <td>ADDINGTON AVE</td>\n",
       "      <td>BATON ROUGE</td>\n",
       "    </tr>\n",
       "    <tr>\n",
       "      <th>CHALFONT</th>\n",
       "      <td>W CHALFONT DR</td>\n",
       "      <td>BATON ROUGE</td>\n",
       "    </tr>\n",
       "  </tbody>\n",
       "</table>\n",
       "</div>"
      ],
      "text/plain": [
       "               STREET FULL NAME POSTAL COMMUNITY\n",
       "STREET NAME                                     \n",
       "PRIVATE STREET   PRIVATE STREET      BATON ROUGE\n",
       "4TH                    N 4TH ST      BATON ROUGE\n",
       "11TH                  S 11TH ST      BATON ROUGE\n",
       "ADDINGTON         ADDINGTON AVE      BATON ROUGE\n",
       "CHALFONT          W CHALFONT DR      BATON ROUGE"
      ]
     },
     "execution_count": 22,
     "metadata": {},
     "output_type": "execute_result"
    }
   ],
   "source": [
    "#selecciono todas las filas, y solo filtro por columnas.\n",
    "streets.loc[:, [\"STREET FULL NAME\", \"POSTAL COMMUNITY\"]].head()"
   ]
  },
  {
   "cell_type": "code",
   "execution_count": 24,
   "metadata": {},
   "outputs": [
    {
     "name": "stdout",
     "output_type": "stream",
     "text": [
      "                 STREET NAME ID    STREET FULL NAME POSTAL COMMUNITY  \\\n",
      "STREET NAME                                                            \n",
      "ALLIGATOR BAYOU           16497  ALLIGATOR BAYOU RD     PRAIRIEVILLE   \n",
      "BLUFF                     16498            BLUFF RD     PRAIRIEVILLE   \n",
      "\n",
      "                MUNICIPAL COMMUNITY  \n",
      "STREET NAME                          \n",
      "ALLIGATOR BAYOU              PARISH  \n",
      "BLUFF                        PARISH  \n"
     ]
    }
   ],
   "source": [
    "#es para buscar pero con condiciones. le pido que me traiga todas las filas que contengas en postal community lo que quiero. y con eso me trae todas las columnas\n",
    "only_prairieville = streets.loc[streets[\"POSTAL COMMUNITY\"] == \"PRAIRIEVILLE\", :]\n",
    "print(only_prairieville)\n"
   ]
  },
  {
   "cell_type": "code",
   "execution_count": 27,
   "metadata": {},
   "outputs": [
    {
     "name": "stdout",
     "output_type": "stream",
     "text": [
      "                  STREET NAME ID      STREET FULL NAME POSTAL COMMUNITY  \\\n",
      "STREET NAME                                                               \n",
      "TALMADGE                    4772           TALMADGE DR          JACKSON   \n",
      "TREAKLE                     4911            TREAKLE DR          JACKSON   \n",
      "DENNIS                      1452             DENNIS CT          JACKSON   \n",
      "ALLIGATOR BAYOU            16497    ALLIGATOR BAYOU RD     PRAIRIEVILLE   \n",
      "BLUFF                      16498              BLUFF RD     PRAIRIEVILLE   \n",
      "RENEE                       4072              RENEE CT          JACKSON   \n",
      "SANDY SPRINGS               4320      SANDY SPRINGS LN          JACKSON   \n",
      "SHANE                       4405              SHANE CT          JACKSON   \n",
      "BICKHAM                      518            BICKHAM RD          JACKSON   \n",
      "ADAMS                       5527              ADAMS LN          JACKSON   \n",
      "LA 68                       5838             LA 68 HWY          JACKSON   \n",
      "SIMMONS                     6105            SIMMONS LN          JACKSON   \n",
      "MEADOW                      6107           W MEADOW DR          JACKSON   \n",
      "HIGHLAND MEADOW             6108  E HIGHLAND MEADOW DR          JACKSON   \n",
      "HIGHLAND MEADOWS            6109   HIGHLAND MEADOWS DR          JACKSON   \n",
      "PRIVATE DRIVEWAY         1200085      PRIVATE DRIVEWAY          JACKSON   \n",
      "PRIVATE DRIVEWAY         1200110      PRIVATE DRIVEWAY          JACKSON   \n",
      "\n",
      "                 MUNICIPAL COMMUNITY  \n",
      "STREET NAME                           \n",
      "TALMADGE                      PARISH  \n",
      "TREAKLE                       PARISH  \n",
      "DENNIS                        PARISH  \n",
      "ALLIGATOR BAYOU               PARISH  \n",
      "BLUFF                         PARISH  \n",
      "RENEE                         PARISH  \n",
      "SANDY SPRINGS                 PARISH  \n",
      "SHANE                         PARISH  \n",
      "BICKHAM                       PARISH  \n",
      "ADAMS                         PARISH  \n",
      "LA 68                         PARISH  \n",
      "SIMMONS                       PARISH  \n",
      "MEADOW                        PARISH  \n",
      "HIGHLAND MEADOW               PARISH  \n",
      "HIGHLAND MEADOWS              PARISH  \n",
      "PRIVATE DRIVEWAY              PARISH  \n",
      "PRIVATE DRIVEWAY              PARISH  \n"
     ]
    }
   ],
   "source": [
    "only_prairieville_and_jackson = streets.loc[(streets[\"POSTAL COMMUNITY\"] == \"PRAIRIEVILLE\") | (\n",
    "    streets[\"POSTAL COMMUNITY\"] == \"JACKSON\"), :]\n",
    "print(only_prairieville_and_jackson)\n"
   ]
  },
  {
   "cell_type": "code",
   "execution_count": null,
   "metadata": {},
   "outputs": [],
   "source": []
  }
 ],
 "metadata": {
  "kernelspec": {
   "display_name": "Python 3",
   "language": "python",
   "name": "python3"
  },
  "language_info": {
   "codemirror_mode": {
    "name": "ipython",
    "version": 3
   },
   "file_extension": ".py",
   "mimetype": "text/x-python",
   "name": "python",
   "nbconvert_exporter": "python",
   "pygments_lexer": "ipython3",
   "version": "3.11.4"
  },
  "orig_nbformat": 4
 },
 "nbformat": 4,
 "nbformat_minor": 2
}
